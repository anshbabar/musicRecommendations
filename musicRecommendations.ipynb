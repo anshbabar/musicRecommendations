{
  "nbformat": 4,
  "nbformat_minor": 0,
  "metadata": {
    "colab": {
      "provenance": []
    },
    "kernelspec": {
      "name": "python3",
      "display_name": "Python 3"
    },
    "language_info": {
      "name": "python"
    }
  },
  "cells": [
    {
      "cell_type": "code",
      "source": [
        "import pandas as pd\n",
        "from sklearn.feature_extraction.text import TfidfVectorizer\n",
        "from sklearn.linear_model import LogisticRegression\n",
        "from sklearn.model_selection import train_test_split\n",
        "\n",
        "# Collecting Data\n",
        "dataset = pd.DataFrame({'song': ['Happier', 'Bohemian Rhapsody', 'Imagine', 'Shape of You', 'Yesterday',\n",
        "                                 'Don\\'t Stop Believin\\'', 'Rolling in the Deep', 'Smells Like Teen Spirit', 'Wonderwall', 'Dancing Queen',\n",
        "                                 'Sweet Child O\\' Mine', 'Hotel California', 'Despacito', 'All Star', 'Hey Jude'],\n",
        "                        'mood': ['happy', 'powerful', 'peaceful', 'energetic', 'nostalgic',\n",
        "                                 'uplifting', 'soulful', 'rebellious', 'melancholic', 'joyful',\n",
        "                                 'passionate', 'timeless', 'upbeat', 'fun', 'emotional']})\n",
        "\n",
        "# Feature Extraction\n",
        "vectorizer = TfidfVectorizer()\n",
        "X = vectorizer.fit_transform(dataset['song'])\n",
        "y = dataset['mood']\n",
        "\n",
        "# Training the Model\n",
        "X_train, X_test, y_train, y_test = train_test_split(X, y, test_size=0.2, random_state=42)\n",
        "\n",
        "model = LogisticRegression()\n",
        "model.fit(X_train, y_train)\n",
        "\n",
        "# Deploying the Model\n",
        "def recommend_song(mood):\n",
        "    # Preprocessing user input\n",
        "    X_user = vectorizer.transform([mood])\n",
        "    # Predicting the mood based on user input\n",
        "    predicted_mood = model.predict(X_user)[0]\n",
        "    # Filtering songs based on predicted mood\n",
        "    recommended_songs = dataset[dataset['mood'] == predicted_mood]['song']\n",
        "\n",
        "    return recommended_songs\n",
        "\n",
        "\n",
        "user_mood = input(\"Enter your current mood: \")\n",
        "recommended_songs = recommend_song(user_mood)\n",
        "\n",
        "if recommended_songs.empty:\n",
        "    print(\"Sorry, no songs found for your current mood.\")\n",
        "else:\n",
        "    print(\"Recommended songs:\")\n",
        "    for song in recommended_songs:\n",
        "        print(\"- \" + song)\n"
      ],
      "metadata": {
        "id": "Dl3Z3vEmEMcI"
      },
      "execution_count": null,
      "outputs": []
    }
  ]
}